{
 "cells": [
  {
   "cell_type": "code",
   "execution_count": 2,
   "metadata": {},
   "outputs": [],
   "source": [
    "import numpy as np\n",
    "import matplotlib.pyplot as plt\n",
    "import pandas as pd\n",
    "import seaborn as sns"
   ]
  },
  {
   "cell_type": "code",
   "execution_count": 3,
   "metadata": {},
   "outputs": [],
   "source": [
    "clinical_trial = \"clinicaltrial_data.csv\"\n",
    "trial_df = pd.read_csv(clinical_trial)\n",
    "\n",
    "mouse_data = \"mouse_drug_data.csv\"\n",
    "mouse_df = pd.read_csv(mouse_data)"
   ]
  },
  {
   "cell_type": "code",
   "execution_count": 4,
   "metadata": {},
   "outputs": [],
   "source": [
    "full_data_set = pd.merge(trial_df, mouse_df, on= \"Mouse ID\")"
   ]
  },
  {
   "cell_type": "code",
   "execution_count": 5,
   "metadata": {},
   "outputs": [
    {
     "data": {
      "text/plain": [
       "<matplotlib.collections.PathCollection at 0x1a0f893cf8>"
      ]
     },
     "execution_count": 5,
     "metadata": {},
     "output_type": "execute_result"
    },
    {
     "data": {
      "image/png": "[encoded data removed]",
      "text/plain": [
       "<matplotlib.figure.Figure at 0x1a0f7716d8>"
      ]
     },
     "metadata": {},
     "output_type": "display_data"
    }
   ],
   "source": [
    "size_by_drug_df = full_data_set.groupby(['Timepoint','Drug'], as_index=False).agg({\"Tumor Volume (mm3)\": \"mean\"})\n",
    "\n",
    "colors = (\"aqua\", \"blue\", \"coral\", \"darkgreen\",\"darkblue\", \"magenta\", \"orange\", \"red\", \"salmon\", \"silver\")\n",
    "\n",
    "groups = full_data_set[\"Drug\"].unique()\n",
    "\n",
    "plt.scatter(size_by_drug_df[\"Timepoint\"], size_by_drug_df[\"Tumor Volume (mm3)\"], c=colors, label=groups)\n"
   ]
  },
  {
   "cell_type": "code",
   "execution_count": 6,
   "metadata": {},
   "outputs": [
    {
     "data": {
      "text/plain": [
       "<matplotlib.collections.PathCollection at 0x1a18759978>"
      ]
     },
     "execution_count": 6,
     "metadata": {},
     "output_type": "execute_result"
    },
    {
     "data": {
      "image/png": "[encoded data removed]",
      "text/plain": [
       "<matplotlib.figure.Figure at 0x1a0f771908>"
      ]
     },
     "metadata": {},
     "output_type": "display_data"
    }
   ],
   "source": [
    "size_by_drug_df = full_data_set.groupby(['Timepoint','Drug'], as_index=False).agg({\"Metastatic Sites\": \"sum\"})\n",
    "\n",
    "colors = (\"aqua\", \"blue\", \"coral\", \"darkgreen\",\"darkblue\", \"magenta\", \"orange\", \"red\", \"salmon\", \"silver\")\n",
    "\n",
    "groups = full_data_set[\"Drug\"].unique()\n",
    "\n",
    "plt.scatter(size_by_drug_df[\"Timepoint\"], size_by_drug_df[\"Metastatic Sites\"], c=colors, label=groups)"
   ]
  },
  {
   "cell_type": "code",
   "execution_count": 7,
   "metadata": {},
   "outputs": [
    {
     "data": {
      "text/html": [
       "<div>\n",
       "<style scoped>\n",
       "    .dataframe tbody tr th:only-of-type {\n",
       "        vertical-align: middle;\n",
       "    }\n",
       "\n",
       "    .dataframe tbody tr th {\n",
       "        vertical-align: top;\n",
       "    }\n",
       "\n",
       "    .dataframe thead th {\n",
       "        text-align: right;\n",
       "    }\n",
       "</style>\n",
       "<table border=\"1\" class=\"dataframe\">\n",
       "  <thead>\n",
       "    <tr style=\"text-align: right;\">\n",
       "      <th></th>\n",
       "      <th>index</th>\n",
       "      <th>Number of Observations</th>\n",
       "      <th>Mouse Count</th>\n",
       "      <th>Num Still Alive</th>\n",
       "      <th>Timepoint</th>\n",
       "    </tr>\n",
       "  </thead>\n",
       "  <tbody>\n",
       "    <tr>\n",
       "      <th>0</th>\n",
       "      <td>3</td>\n",
       "      <td>1</td>\n",
       "      <td>17</td>\n",
       "      <td>246</td>\n",
       "      <td>0</td>\n",
       "    </tr>\n",
       "    <tr>\n",
       "      <th>1</th>\n",
       "      <td>1</td>\n",
       "      <td>2</td>\n",
       "      <td>20</td>\n",
       "      <td>229</td>\n",
       "      <td>5</td>\n",
       "    </tr>\n",
       "    <tr>\n",
       "      <th>2</th>\n",
       "      <td>4</td>\n",
       "      <td>3</td>\n",
       "      <td>15</td>\n",
       "      <td>209</td>\n",
       "      <td>10</td>\n",
       "    </tr>\n",
       "    <tr>\n",
       "      <th>3</th>\n",
       "      <td>5</td>\n",
       "      <td>4</td>\n",
       "      <td>14</td>\n",
       "      <td>194</td>\n",
       "      <td>15</td>\n",
       "    </tr>\n",
       "    <tr>\n",
       "      <th>4</th>\n",
       "      <td>2</td>\n",
       "      <td>5</td>\n",
       "      <td>17</td>\n",
       "      <td>180</td>\n",
       "      <td>20</td>\n",
       "    </tr>\n",
       "    <tr>\n",
       "      <th>5</th>\n",
       "      <td>6</td>\n",
       "      <td>6</td>\n",
       "      <td>12</td>\n",
       "      <td>163</td>\n",
       "      <td>25</td>\n",
       "    </tr>\n",
       "    <tr>\n",
       "      <th>6</th>\n",
       "      <td>7</td>\n",
       "      <td>7</td>\n",
       "      <td>10</td>\n",
       "      <td>151</td>\n",
       "      <td>30</td>\n",
       "    </tr>\n",
       "    <tr>\n",
       "      <th>7</th>\n",
       "      <td>9</td>\n",
       "      <td>8</td>\n",
       "      <td>7</td>\n",
       "      <td>141</td>\n",
       "      <td>35</td>\n",
       "    </tr>\n",
       "    <tr>\n",
       "      <th>8</th>\n",
       "      <td>8</td>\n",
       "      <td>9</td>\n",
       "      <td>8</td>\n",
       "      <td>134</td>\n",
       "      <td>40</td>\n",
       "    </tr>\n",
       "    <tr>\n",
       "      <th>9</th>\n",
       "      <td>0</td>\n",
       "      <td>10</td>\n",
       "      <td>126</td>\n",
       "      <td>126</td>\n",
       "      <td>45</td>\n",
       "    </tr>\n",
       "  </tbody>\n",
       "</table>\n",
       "</div>"
      ],
      "text/plain": [
       "   index  Number of Observations  Mouse Count  Num Still Alive  Timepoint\n",
       "0      3                       1           17              246          0\n",
       "1      1                       2           20              229          5\n",
       "2      4                       3           15              209         10\n",
       "3      5                       4           14              194         15\n",
       "4      2                       5           17              180         20\n",
       "5      6                       6           12              163         25\n",
       "6      7                       7           10              151         30\n",
       "7      9                       8            7              141         35\n",
       "8      8                       9            8              134         40\n",
       "9      0                      10          126              126         45"
      ]
     },
     "execution_count": 7,
     "metadata": {},
     "output_type": "execute_result"
    }
   ],
   "source": [
    "alive_df = full_data_set.groupby(['Mouse ID'], as_index=False).agg({\"Tumor Volume (mm3)\": \"count\"})\n",
    "\n",
    "count_df = pd.DataFrame(alive_df['Tumor Volume (mm3)'].value_counts())\n",
    "\n",
    "count_df= count_df.reset_index()\n",
    "\n",
    "count_df = count_df.rename( columns = {'index':'Number of Observations', 'Tumor Volume (mm3)':'Mouse Count'} )\n",
    "\n",
    "count_df = count_df[:-2]\n",
    "\n",
    "count_df = count_df.sort_values('Number of Observations')\n",
    "\n",
    "count_df= count_df.reset_index()\n",
    "\n",
    "count_df[\"Num Still Alive\"] = count_df[\"Mouse Count\"].sum() - count_df[\"Mouse Count\"].cumsum() + count_df[\"Mouse Count\"]\n",
    "\n",
    "count_df[\"Timepoint\"] = (count_df[\"Number of Observations\"] - 1)* 5\n",
    "\n",
    "count_df\n"
   ]
  },
  {
   "cell_type": "code",
   "execution_count": 8,
   "metadata": {},
   "outputs": [
    {
     "data": {
      "text/plain": [
       "<matplotlib.collections.PathCollection at 0x1a18b7c320>"
      ]
     },
     "execution_count": 8,
     "metadata": {},
     "output_type": "execute_result"
    },
    {
     "data": {
      "image/png": "[encoded data removed]",
      "text/plain": [
       "<matplotlib.figure.Figure at 0x1a0f752f98>"
      ]
     },
     "metadata": {},
     "output_type": "display_data"
    }
   ],
   "source": [
    "groups = full_data_set[\"Drug\"].unique()\n",
    "\n",
    "plt.scatter(count_df[\"Timepoint\"], count_df[\"Num Still Alive\"], c='darkblue', label=groups)"
   ]
  },
  {
   "cell_type": "code",
   "execution_count": 53,
   "metadata": {},
   "outputs": [
    {
     "data": {
      "text/html": [
       "<div>\n",
       "<style scoped>\n",
       "    .dataframe tbody tr th:only-of-type {\n",
       "        vertical-align: middle;\n",
       "    }\n",
       "\n",
       "    .dataframe tbody tr th {\n",
       "        vertical-align: top;\n",
       "    }\n",
       "\n",
       "    .dataframe thead th {\n",
       "        text-align: right;\n",
       "    }\n",
       "</style>\n",
       "<table border=\"1\" class=\"dataframe\">\n",
       "  <thead>\n",
       "    <tr style=\"text-align: right;\">\n",
       "      <th></th>\n",
       "      <th>Drug</th>\n",
       "      <th>Start Volume</th>\n",
       "      <th>End Volume</th>\n",
       "      <th>Percent Change</th>\n",
       "    </tr>\n",
       "  </thead>\n",
       "  <tbody>\n",
       "    <tr>\n",
       "      <th>6</th>\n",
       "      <td>Propriva</td>\n",
       "      <td>45.0</td>\n",
       "      <td>35.008999</td>\n",
       "      <td>-22.20%</td>\n",
       "    </tr>\n",
       "    <tr>\n",
       "      <th>8</th>\n",
       "      <td>Stelasyn</td>\n",
       "      <td>45.0</td>\n",
       "      <td>35.890838</td>\n",
       "      <td>-20.24%</td>\n",
       "    </tr>\n",
       "    <tr>\n",
       "      <th>0</th>\n",
       "      <td>Capomulin</td>\n",
       "      <td>45.0</td>\n",
       "      <td>64.907865</td>\n",
       "      <td>44.24%</td>\n",
       "    </tr>\n",
       "    <tr>\n",
       "      <th>7</th>\n",
       "      <td>Ramicane</td>\n",
       "      <td>45.0</td>\n",
       "      <td>65.588697</td>\n",
       "      <td>45.75%</td>\n",
       "    </tr>\n",
       "    <tr>\n",
       "      <th>9</th>\n",
       "      <td>Zoniferol</td>\n",
       "      <td>45.0</td>\n",
       "      <td>66.087064</td>\n",
       "      <td>46.86%</td>\n",
       "    </tr>\n",
       "    <tr>\n",
       "      <th>1</th>\n",
       "      <td>Ceftamin</td>\n",
       "      <td>45.0</td>\n",
       "      <td>68.024861</td>\n",
       "      <td>51.17%</td>\n",
       "    </tr>\n",
       "    <tr>\n",
       "      <th>4</th>\n",
       "      <td>Naftisol</td>\n",
       "      <td>45.0</td>\n",
       "      <td>68.102194</td>\n",
       "      <td>51.34%</td>\n",
       "    </tr>\n",
       "    <tr>\n",
       "      <th>3</th>\n",
       "      <td>Ketapril</td>\n",
       "      <td>45.0</td>\n",
       "      <td>68.392287</td>\n",
       "      <td>51.98%</td>\n",
       "    </tr>\n",
       "    <tr>\n",
       "      <th>2</th>\n",
       "      <td>Infubinol</td>\n",
       "      <td>45.0</td>\n",
       "      <td>69.667228</td>\n",
       "      <td>54.82%</td>\n",
       "    </tr>\n",
       "    <tr>\n",
       "      <th>5</th>\n",
       "      <td>Placebo</td>\n",
       "      <td>45.0</td>\n",
       "      <td>69.972768</td>\n",
       "      <td>55.50%</td>\n",
       "    </tr>\n",
       "  </tbody>\n",
       "</table>\n",
       "</div>"
      ],
      "text/plain": [
       "        Drug  Start Volume  End Volume Percent Change\n",
       "6   Propriva          45.0   35.008999        -22.20%\n",
       "8   Stelasyn          45.0   35.890838        -20.24%\n",
       "0  Capomulin          45.0   64.907865         44.24%\n",
       "7   Ramicane          45.0   65.588697         45.75%\n",
       "9  Zoniferol          45.0   66.087064         46.86%\n",
       "1   Ceftamin          45.0   68.024861         51.17%\n",
       "4   Naftisol          45.0   68.102194         51.34%\n",
       "3   Ketapril          45.0   68.392287         51.98%\n",
       "2  Infubinol          45.0   69.667228         54.82%\n",
       "5    Placebo          45.0   69.972768         55.50%"
      ]
     },
     "execution_count": 53,
     "metadata": {},
     "output_type": "execute_result"
    }
   ],
   "source": [
    "shrink_df = full_data_set.groupby(['Timepoint','Drug'], as_index=False).agg({\"Tumor Volume (mm3)\": \"mean\"})\n",
    "\n",
    "shrink_results = pd.DataFrame(full_data_set['Drug'].unique(), columns = ['Drug'])\n",
    "\n",
    "shrink_results = shrink_results.sort_values('Drug').reset_index(drop=True)\n",
    "\n",
    "start_shrink = shrink_df[shrink_df[\"Timepoint\"] == 0]\n",
    "\n",
    "end_shrink = shrink_df[shrink_df[\"Timepoint\"] == 45]\n",
    "\n",
    "shrink_results['Start Volume'] = start_shrink['Tumor Volume (mm3)'].values\n",
    "\n",
    "shrink_results['End Volume'] = end_shrink['Tumor Volume (mm3)'].values\n",
    "\n",
    "shrink_results[\"Percent Change\"] = (shrink_results['End Volume'] - shrink_results['Start Volume']) / shrink_results['Start Volume']\n",
    "\n",
    "shrink_results = shrink_results.sort_values('Percent Change')\n",
    "\n",
    "shrink_results['Percent Change'] = pd.Series([\"{0:.2f}%\".format(x * 100) for x in shrink_results['Percent Change']], index = shrink_results.index)\n",
    "\n",
    "shrink_results"
   ]
  },
  {
   "cell_type": "code",
   "execution_count": 54,
   "metadata": {},
   "outputs": [
    {
     "data": {
      "text/plain": [
       "<Container object of 10 artists>"
      ]
     },
     "execution_count": 54,
     "metadata": {},
     "output_type": "execute_result"
    },
    {
     "data": {
      "image/png": "[encoded data removed]",
      "text/plain": [
       "<matplotlib.figure.Figure at 0x1a18f35a20>"
      ]
     },
     "metadata": {},
     "output_type": "display_data"
    }
   ],
   "source": [
    "plt.bar(shrink_results['Drug'], shrink_results['Percent Change'],)"
   ]
  }
 ],
 "metadata": {
  "kernelspec": {
   "display_name": "Python [conda env:PythonData]",
   "language": "python",
   "name": "conda-env-PythonData-py"
  },
  "language_info": {
   "codemirror_mode": {
    "name": "ipython",
    "version": 3
   },
   "file_extension": ".py",
   "mimetype": "text/x-python",
   "name": "python",
   "nbconvert_exporter": "python",
   "pygments_lexer": "ipython3",
   "version": "3.6.4"
  }
 },
 "nbformat": 4,
 "nbformat_minor": 2
}
