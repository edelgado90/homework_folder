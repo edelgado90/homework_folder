{
 "cells": [
  {
   "cell_type": "code",
   "execution_count": null,
   "metadata": {},
   "outputs": [],
   "source": [
    "from citipy import citipy\n",
    "import random\n",
    "import pandas as pd\n",
    "import openweathermapy.core as owm\n",
    "from config import api_key\n",
    "import time\n",
    "import json\n",
    "import requests\n",
    "import random \n",
    "import time\n",
    "import datetime\n",
    "import csv\n",
    "import os\n",
    "import matplotlib.pyplot as plt\n",
    "import seaborn as sns\n",
    "\n",
    "import warnings\n",
    "warnings.filterwarnings(\"ignore\")\n",
    "\n",
    "recordcount=0\n",
    "setcount=1\n",
    "\n",
    "url = \"http://api.openweathermap.org/data/2.5/weather?\""
   ]
  },
  {
   "cell_type": "code",
   "execution_count": null,
   "metadata": {},
   "outputs": [],
   "source": [
    "long_list = []\n",
    "\n",
    "while len(long_list)<500:\n",
    "        random_long = random.uniform(-180,180)\n",
    "        long_list.append(random_long)\n",
    "\n",
    "lat_list = []\n",
    "\n",
    "while len(lat_list)<500:\n",
    "    random_lat = random.uniform(-90,90)\n",
    "    lat_list.append(random_lat)"
   ]
  },
  {
   "cell_type": "code",
   "execution_count": null,
   "metadata": {},
   "outputs": [],
   "source": [
    "city_list =[]\n",
    "\n",
    "for x in range(len(location_df)):\n",
    "    city_list.append(citipy.nearest_city(location_df.iloc[x,0], location_df.iloc[x,1]).city_name)\n"
   ]
  },
  {
   "cell_type": "code",
   "execution_count": null,
   "metadata": {},
   "outputs": [],
   "source": [
    "data_df = pd.DataFrame({'City':city_list,'Longitude':long_list,'Latitude':lat_list})\n",
    "\n",
    "data_df['Temperature'] = \"\"\n",
    "data_df['Humidity'] = \"\"\n",
    "data_df['Cloudiness'] = \"\"\n",
    "data_df['Wind Speed'] = \"\"\n",
    "\n",
    "data_df.head()\n",
    "\n"
   ]
  },
  {
   "cell_type": "code",
   "execution_count": null,
   "metadata": {},
   "outputs": [],
   "source": [
    "record_number = 0\n",
    "setcount=1\n",
    "\n",
    "params = {\"units\": \"metric\", \"appid\": api_key}\n",
    "\n",
    "for index, row in data_df.iterrows():\n",
    "    base_url = 'http://api.openweathermap.org/data/2.5/weather?'\n",
    "    city = row['City']\n",
    "    params['q'] = f'{city}'\n",
    "    city_data = requests.get(base_url, params=params)\n",
    "    record_number = record_number+1\n",
    "    print(f\"Data for {city} has been retrieved. A total of {record_number} records have been retrieved.\")\n",
    "    city_data_json = city_data.json()\n",
    "\n",
    "    data_df.set_value(index,\"Temperature\",city_data_json.get('main.temp_max'))\n",
    "    data_df.set_value(index,\"Wind Speed\",city_data_json.get('wind.speed'))\n",
    "    data_df.set_value(index,\"Humidity\",city_data_json.get('main.humidity'))\n",
    "    data_df.set_value(index,\"Cloudiness\",city_data_json.get('clouds.all'))\n",
    "\n",
    "    \n",
    "    if recordcount < 50:\n",
    "        recordcount=recordcount+1\n",
    "    elif recordcount == 50:\n",
    "        time.sleep(61)\n",
    "        recordcount= 1\n",
    "        setcount = setcount+1"
   ]
  }
 ],
 "metadata": {
  "kernelspec": {
   "display_name": "Python [conda env:PythonData]",
   "language": "python",
   "name": "conda-env-PythonData-py"
  },
  "language_info": {
   "codemirror_mode": {
    "name": "ipython",
    "version": 3
   },
   "file_extension": ".py",
   "mimetype": "text/x-python",
   "name": "python",
   "nbconvert_exporter": "python",
   "pygments_lexer": "ipython3",
   "version": "3.6.4"
  }
 },
 "nbformat": 4,
 "nbformat_minor": 2
}
